{
  "nbformat": 4,
  "nbformat_minor": 0,
  "metadata": {
    "colab": {
      "name": "ML problem1",
      "version": "0.3.2",
      "provenance": []
    },
    "kernelspec": {
      "name": "python3",
      "display_name": "Python 3"
    }
  },
  "cells": [
    {
      "cell_type": "code",
      "metadata": {
        "id": "9Z4vy9y4HyvP",
        "colab_type": "code",
        "colab": {}
      },
      "source": [
        "import numpy as np\n",
        "from tempfile import TemporaryFile"
      ],
      "execution_count": 0,
      "outputs": []
    },
    {
      "cell_type": "code",
      "metadata": {
        "id": "VXvo31_FO81E",
        "colab_type": "code",
        "colab": {}
      },
      "source": [
        "mainfile= TemporaryFile()"
      ],
      "execution_count": 0,
      "outputs": []
    },
    {
      "cell_type": "code",
      "metadata": {
        "id": "fzNAWgegITun",
        "colab_type": "code",
        "colab": {}
      },
      "source": [
        "import random"
      ],
      "execution_count": 0,
      "outputs": []
    },
    {
      "cell_type": "code",
      "metadata": {
        "id": "128hzBwGIXdS",
        "colab_type": "code",
        "colab": {
          "base_uri": "https://localhost:8080/",
          "height": 33
        },
        "outputId": "6f38e9f2-875a-418d-960f-11eab9b87abf"
      },
      "source": [
        "a=int(input(\"enter number of row\"))"
      ],
      "execution_count": 22,
      "outputs": [
        {
          "output_type": "stream",
          "text": [
            "enter number of row3\n"
          ],
          "name": "stdout"
        }
      ]
    },
    {
      "cell_type": "code",
      "metadata": {
        "id": "qf7RyPFPKLi4",
        "colab_type": "code",
        "colab": {
          "base_uri": "https://localhost:8080/",
          "height": 33
        },
        "outputId": "98c09235-be2f-449f-a6ba-1d83270369a5"
      },
      "source": [
        "b=int(input(\"enter number of coloum\"))"
      ],
      "execution_count": 23,
      "outputs": [
        {
          "output_type": "stream",
          "text": [
            "enter number of coloum4\n"
          ],
          "name": "stdout"
        }
      ]
    },
    {
      "cell_type": "code",
      "metadata": {
        "id": "GN1-0rTgKQT2",
        "colab_type": "code",
        "colab": {}
      },
      "source": [
        "c=np.random.random((a,b))"
      ],
      "execution_count": 0,
      "outputs": []
    },
    {
      "cell_type": "code",
      "metadata": {
        "id": "1W3LoVjxNkZ7",
        "colab_type": "code",
        "colab": {
          "base_uri": "https://localhost:8080/",
          "height": 33
        },
        "outputId": "277e07ba-ad1d-4ac7-f45e-76ac57991d6b"
      },
      "source": [
        "x=np.save('mainfile',c)\n",
        "print(\"the matrix is saved in the file mainfile.npy\")"
      ],
      "execution_count": 48,
      "outputs": [
        {
          "output_type": "stream",
          "text": [
            "the matrix is saved in the file mainfile.npy\n"
          ],
          "name": "stdout"
        }
      ]
    },
    {
      "cell_type": "code",
      "metadata": {
        "id": "YFYQNXz9Nsfb",
        "colab_type": "code",
        "colab": {}
      },
      "source": [
        "y=np.load('mainfile.npy')"
      ],
      "execution_count": 0,
      "outputs": []
    },
    {
      "cell_type": "code",
      "metadata": {
        "id": "6honySO7PfM-",
        "colab_type": "code",
        "colab": {
          "base_uri": "https://localhost:8080/",
          "height": 84
        },
        "outputId": "473d7871-8e6b-4201-ec4e-b3ef2627b94b"
      },
      "source": [
        "print(\"your matrix is\")\n",
        "print(y)"
      ],
      "execution_count": 50,
      "outputs": [
        {
          "output_type": "stream",
          "text": [
            "your matrix is\n",
            "[[0.54395365 0.01785594 0.86146842 0.00955264]\n",
            " [0.47696976 0.59684246 0.67715202 0.76576634]\n",
            " [0.57167557 0.53399953 0.03047632 0.57690718]]\n"
          ],
          "name": "stdout"
        }
      ]
    },
    {
      "cell_type": "code",
      "metadata": {
        "id": "qHOAdTuTRZqC",
        "colab_type": "code",
        "colab": {}
      },
      "source": [
        ""
      ],
      "execution_count": 0,
      "outputs": []
    }
  ]
}