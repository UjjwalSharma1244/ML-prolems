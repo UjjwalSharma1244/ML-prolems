{
  "nbformat": 4,
  "nbformat_minor": 0,
  "metadata": {
    "colab": {
      "name": "face_detection",
      "version": "0.3.2",
      "provenance": [],
      "collapsed_sections": [],
      "include_colab_link": true
    },
    "kernelspec": {
      "name": "python3",
      "display_name": "Python 3"
    }
  },
  "cells": [
    {
      "cell_type": "markdown",
      "metadata": {
        "id": "view-in-github",
        "colab_type": "text"
      },
      "source": [
        "<a href=\"https://colab.research.google.com/github/ujjusharma/ML-prolems/blob/supervisedML/face_detection.ipynb\" target=\"_parent\"><img src=\"https://colab.research.google.com/assets/colab-badge.svg\" alt=\"Open In Colab\"/></a>"
      ]
    },
    {
      "cell_type": "code",
      "metadata": {
        "id": "ZsVLdlMQMsyl",
        "colab_type": "code",
        "colab": {}
      },
      "source": [
        "import cv2"
      ],
      "execution_count": 0,
      "outputs": []
    },
    {
      "cell_type": "code",
      "metadata": {
        "id": "HCk2Ls77MxmZ",
        "colab_type": "code",
        "colab": {}
      },
      "source": [
        "casclf=cv2.CascadeClassifier('face.xml')# calling classifier\n",
        "\n",
        "#loading face data\n",
        "cap=cv2.VideoCapture(2) \n"
      ],
      "execution_count": 0,
      "outputs": []
    },
    {
      "cell_type": "code",
      "metadata": {
        "id": "7iYM0kEHOMD6",
        "colab_type": "code",
        "colab": {}
      },
      "source": [
        "while cap.isOpened():\n",
        "  status,frame=cap.read()\n",
        "  #now we can apply classifier in live frame\n",
        "  face=casclf.detectMultiScale(frame,1.13,5)   # classifier tuning parameter\n",
        "  #print(face)\n",
        "  for x,y,h,w in face:\n",
        "    cv2.rectangle(frame,(x,y),(x+h,y+w),(0,0,255),2)\n",
        "    #only face\n",
        "    #    optional----> facedata=frame[x:x plus h,y:y plus w ]\n",
        "   #  optional--->>     cv2.imshow('f',facedata)\n",
        "  if cv2.waitkey(10)   & 0xff==ord('q'):\n",
        "    break\n",
        "  "
      ],
      "execution_count": 0,
      "outputs": []
    },
    {
      "cell_type": "code",
      "metadata": {
        "id": "Gm2-jiwuOtbL",
        "colab_type": "code",
        "colab": {}
      },
      "source": [
        "cv2.destroyAllWindows()\n",
        "cap.release()"
      ],
      "execution_count": 0,
      "outputs": []
    },
    {
      "cell_type": "code",
      "metadata": {
        "id": "_XMyV08HO28y",
        "colab_type": "code",
        "colab": {}
      },
      "source": [
        ""
      ],
      "execution_count": 0,
      "outputs": []
    }
  ]
}