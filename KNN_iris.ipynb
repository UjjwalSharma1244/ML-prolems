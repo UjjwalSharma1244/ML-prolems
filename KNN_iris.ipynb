{
  "nbformat": 4,
  "nbformat_minor": 0,
  "metadata": {
    "colab": {
      "name": "KNN_iris",
      "version": "0.3.2",
      "provenance": [],
      "collapsed_sections": []
    },
    "kernelspec": {
      "name": "python3",
      "display_name": "Python 3"
    }
  },
  "cells": [
    {
      "cell_type": "code",
      "metadata": {
        "id": "yI-GVQ7sdDer",
        "colab_type": "code",
        "colab": {}
      },
      "source": [
        "#loding iris dataset\n",
        "from sklearn.datasets import load_iris"
      ],
      "execution_count": 0,
      "outputs": []
    },
    {
      "cell_type": "code",
      "metadata": {
        "id": "a-2XuuPhgBRC",
        "colab_type": "code",
        "colab": {}
      },
      "source": [
        "#loading into a variable\n",
        "iris_data=load_iris()"
      ],
      "execution_count": 0,
      "outputs": []
    },
    {
      "cell_type": "code",
      "metadata": {
        "id": "f44xwn1egMrL",
        "colab_type": "code",
        "outputId": "21ed765a-3033-45e7-e4c3-c4baa1eca04c",
        "colab": {
          "base_uri": "https://localhost:8080/",
          "height": 33
        }
      },
      "source": [
        "#describing iris data internally\n",
        "dir(iris_data)"
      ],
      "execution_count": 3,
      "outputs": [
        {
          "output_type": "execute_result",
          "data": {
            "text/plain": [
              "['DESCR', 'data', 'feature_names', 'filename', 'target', 'target_names']"
            ]
          },
          "metadata": {
            "tags": []
          },
          "execution_count": 3
        }
      ]
    },
    {
      "cell_type": "code",
      "metadata": {
        "id": "i4C6jjUfgkXL",
        "colab_type": "code",
        "outputId": "f620fc7a-213d-4cf6-d673-aad2df3ac8fa",
        "colab": {
          "base_uri": "https://localhost:8080/",
          "height": 33
        }
      },
      "source": [
        "#target output values----\n",
        "iris_data.target_names"
      ],
      "execution_count": 4,
      "outputs": [
        {
          "output_type": "execute_result",
          "data": {
            "text/plain": [
              "array(['setosa', 'versicolor', 'virginica'], dtype='<U10')"
            ]
          },
          "metadata": {
            "tags": []
          },
          "execution_count": 4
        }
      ]
    },
    {
      "cell_type": "code",
      "metadata": {
        "id": "9-wfimrbgwJk",
        "colab_type": "code",
        "outputId": "d6d95c37-0534-4c66-e8fe-9c161bc49c83",
        "colab": {
          "base_uri": "https://localhost:8080/",
          "height": 84
        }
      },
      "source": [
        "#now attributes of features of given data\n",
        "iris_data.feature_names"
      ],
      "execution_count": 5,
      "outputs": [
        {
          "output_type": "execute_result",
          "data": {
            "text/plain": [
              "['sepal length (cm)',\n",
              " 'sepal width (cm)',\n",
              " 'petal length (cm)',\n",
              " 'petal width (cm)']"
            ]
          },
          "metadata": {
            "tags": []
          },
          "execution_count": 5
        }
      ]
    },
    {
      "cell_type": "code",
      "metadata": {
        "id": "R3F2ghyJg-qq",
        "colab_type": "code",
        "colab": {}
      },
      "source": [
        "#data with aattributes \n",
        "iris_features=iris_data.data"
      ],
      "execution_count": 0,
      "outputs": []
    },
    {
      "cell_type": "code",
      "metadata": {
        "id": "aWB4DF1-hV-B",
        "colab_type": "code",
        "colab": {}
      },
      "source": [
        "# extracting label as per features\n",
        "label=iris_data.target"
      ],
      "execution_count": 0,
      "outputs": []
    },
    {
      "cell_type": "markdown",
      "metadata": {
        "id": "qxtkfdxehmzt",
        "colab_type": "text"
      },
      "source": [
        "showing graphs"
      ]
    },
    {
      "cell_type": "code",
      "metadata": {
        "id": "0DdRRCc0hjyO",
        "colab_type": "code",
        "colab": {}
      },
      "source": [
        "# put your code for graph"
      ],
      "execution_count": 0,
      "outputs": []
    },
    {
      "cell_type": "code",
      "metadata": {
        "id": "FaJZu4LEhy-W",
        "colab_type": "code",
        "colab": {}
      },
      "source": [
        "#sep data into training and testing\n",
        "from sklearn.model_selection import train_test_split"
      ],
      "execution_count": 0,
      "outputs": []
    },
    {
      "cell_type": "code",
      "metadata": {
        "id": "fhMOaFPziFSx",
        "colab_type": "code",
        "colab": {}
      },
      "source": [
        "train_data,test_data,train_label,test_label=train_test_split(iris_features,label,test_size=0.2)"
      ],
      "execution_count": 0,
      "outputs": []
    },
    {
      "cell_type": "code",
      "metadata": {
        "id": "I-XameJQj7qE",
        "colab_type": "code",
        "colab": {}
      },
      "source": [
        "#import knn classifier\n",
        "\n",
        "from sklearn.neighbors import KNeighborsClassifier\n"
      ],
      "execution_count": 0,
      "outputs": []
    },
    {
      "cell_type": "code",
      "metadata": {
        "id": "WEL6jWIDkVSG",
        "colab_type": "code",
        "colab": {}
      },
      "source": [
        "#now calling KNN\n",
        "kclf=KNeighborsClassifier(n_neighbors=5)  #this is by default value of k"
      ],
      "execution_count": 0,
      "outputs": []
    },
    {
      "cell_type": "code",
      "metadata": {
        "id": "oR6U4Xhzk07z",
        "colab_type": "code",
        "colab": {}
      },
      "source": [
        "#now applying training data\n",
        "ktrained=kclf.fit(train_data,train_label)"
      ],
      "execution_count": 0,
      "outputs": []
    },
    {
      "cell_type": "code",
      "metadata": {
        "id": "W74tjwUzlQUt",
        "colab_type": "code",
        "colab": {}
      },
      "source": [
        "#now time for prediction\n",
        "predict_output=ktrained.predict(test_data)"
      ],
      "execution_count": 0,
      "outputs": []
    },
    {
      "cell_type": "code",
      "metadata": {
        "id": "EU7cDqmklkIg",
        "colab_type": "code",
        "outputId": "573dbfbc-e31a-4e04-a724-4de52f411a57",
        "colab": {
          "base_uri": "https://localhost:8080/",
          "height": 50
        }
      },
      "source": [
        "predict_output"
      ],
      "execution_count": 15,
      "outputs": [
        {
          "output_type": "execute_result",
          "data": {
            "text/plain": [
              "array([2, 0, 2, 2, 2, 0, 0, 2, 2, 1, 1, 0, 1, 2, 2, 1, 2, 2, 0, 0, 0, 0,\n",
              "       0, 2, 0, 1, 1, 2, 2, 1])"
            ]
          },
          "metadata": {
            "tags": []
          },
          "execution_count": 15
        }
      ]
    },
    {
      "cell_type": "code",
      "metadata": {
        "id": "troyUCkLln_D",
        "colab_type": "code",
        "outputId": "db96e86b-c9ca-4572-dcd3-08b1b72781d6",
        "colab": {
          "base_uri": "https://localhost:8080/",
          "height": 50
        }
      },
      "source": [
        "test_label"
      ],
      "execution_count": 16,
      "outputs": [
        {
          "output_type": "execute_result",
          "data": {
            "text/plain": [
              "array([2, 0, 2, 1, 2, 0, 0, 2, 2, 1, 1, 0, 1, 1, 2, 1, 2, 2, 0, 0, 0, 0,\n",
              "       0, 2, 0, 1, 1, 2, 2, 1])"
            ]
          },
          "metadata": {
            "tags": []
          },
          "execution_count": 16
        }
      ]
    },
    {
      "cell_type": "code",
      "metadata": {
        "id": "EnK2050flqxc",
        "colab_type": "code",
        "colab": {}
      },
      "source": [
        "from sklearn.metrics import accuracy_score"
      ],
      "execution_count": 0,
      "outputs": []
    },
    {
      "cell_type": "code",
      "metadata": {
        "id": "Y67-IGBYlygs",
        "colab_type": "code",
        "colab": {}
      },
      "source": [
        "acrknn=accuracy_score(test_label,predict_output)"
      ],
      "execution_count": 0,
      "outputs": []
    },
    {
      "cell_type": "code",
      "metadata": {
        "id": "z68bNHkhmAPh",
        "colab_type": "code",
        "outputId": "2046e7d2-49dc-4f86-9c2e-79ea31fc2537",
        "colab": {
          "base_uri": "https://localhost:8080/",
          "height": 33
        }
      },
      "source": [
        "acrknn"
      ],
      "execution_count": 19,
      "outputs": [
        {
          "output_type": "execute_result",
          "data": {
            "text/plain": [
              "0.9333333333333333"
            ]
          },
          "metadata": {
            "tags": []
          },
          "execution_count": 19
        }
      ]
    },
    {
      "cell_type": "code",
      "metadata": {
        "id": "To9jTnLOmGLr",
        "colab_type": "code",
        "colab": {}
      },
      "source": [
        "#calling decision tree clf\n",
        "from sklearn.tree import DecisionTreeClassifier\n",
        "dclf=DecisionTreeClassifier()"
      ],
      "execution_count": 0,
      "outputs": []
    },
    {
      "cell_type": "code",
      "metadata": {
        "id": "3dhYU-FYmLlP",
        "colab_type": "code",
        "colab": {}
      },
      "source": [
        "#training decision tree\n",
        "dtrained=dclf.fit(train_data,train_label)"
      ],
      "execution_count": 0,
      "outputs": []
    },
    {
      "cell_type": "code",
      "metadata": {
        "id": "5rh5MTOxmqFX",
        "colab_type": "code",
        "colab": {}
      },
      "source": [
        "#now predicting \n",
        "dprediction=dtrained.predict(test_data)"
      ],
      "execution_count": 0,
      "outputs": []
    },
    {
      "cell_type": "code",
      "metadata": {
        "id": "6P5Zrfp0m7Xx",
        "colab_type": "code",
        "colab": {}
      },
      "source": [
        "dacr=accuracy_score(test_label,dprediction)"
      ],
      "execution_count": 0,
      "outputs": []
    },
    {
      "cell_type": "code",
      "metadata": {
        "id": "B5N1N8FXnFcf",
        "colab_type": "code",
        "outputId": "a33c3057-6212-42c6-f628-7ae043234718",
        "colab": {
          "base_uri": "https://localhost:8080/",
          "height": 33
        }
      },
      "source": [
        "\n",
        "dacr"
      ],
      "execution_count": 24,
      "outputs": [
        {
          "output_type": "execute_result",
          "data": {
            "text/plain": [
              "0.9666666666666667"
            ]
          },
          "metadata": {
            "tags": []
          },
          "execution_count": 24
        }
      ]
    },
    {
      "cell_type": "markdown",
      "metadata": {
        "id": "HLEkR9vvxhbp",
        "colab_type": "text"
      },
      "source": [
        ""
      ]
    },
    {
      "cell_type": "code",
      "metadata": {
        "id": "yHEKrLognGwZ",
        "colab_type": "code",
        "colab": {}
      },
      "source": [
        "#compare"
      ],
      "execution_count": 0,
      "outputs": []
    },
    {
      "cell_type": "code",
      "metadata": {
        "id": "2kQZpeJ4pIXa",
        "colab_type": "code",
        "colab": {}
      },
      "source": [
        ""
      ],
      "execution_count": 0,
      "outputs": []
    }
  ]
}