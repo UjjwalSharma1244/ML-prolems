{
  "nbformat": 4,
  "nbformat_minor": 0,
  "metadata": {
    "colab": {
      "name": "twitter_sentiment.API",
      "version": "0.3.2",
      "provenance": [],
      "collapsed_sections": [],
      "include_colab_link": true
    },
    "kernelspec": {
      "name": "python3",
      "display_name": "Python 3"
    }
  },
  "cells": [
    {
      "cell_type": "markdown",
      "metadata": {
        "id": "view-in-github",
        "colab_type": "text"
      },
      "source": [
        "<a href=\"https://colab.research.google.com/github/ujjusharma/ML-prolems/blob/supervisedML/twitter_sentiment_API.ipynb\" target=\"_parent\"><img src=\"https://colab.research.google.com/assets/colab-badge.svg\" alt=\"Open In Colab\"/></a>"
      ]
    },
    {
      "cell_type": "code",
      "metadata": {
        "id": "Txdj-C8hJZPR",
        "colab_type": "code",
        "colab": {}
      },
      "source": [
        "#  sudo pip3 install tweepy\n",
        "import tweepy\n",
        "import matplotlib.pyplot as plt\n",
        "import time\n"
      ],
      "execution_count": 0,
      "outputs": []
    },
    {
      "cell_type": "code",
      "metadata": {
        "id": "KQJQcLNBLhm6",
        "colab_type": "code",
        "colab": {}
      },
      "source": [
        "#all 4 authentication key to acchess twitter API\n",
        "consumer_key='veGpoEXLRWsF0OeQr5PfI5T1r'\n",
        "consumer_sec='7W8u1RGTUMyMGIjsdVzWzfKtEml5e0vGKDyjEYM8iW9JJpTtHz'\n",
        "#  from proxy server we need to connect to web server of twitter\n",
        "\n",
        "access_token='992649249446916096-rwjnWPCAObDXKafV8P1P9WJPWzxjlsg'\n",
        "access_sec='IXHoJwNmLYj2B40Rb0b9GK3lNigJjWHZoYpFG3tVGaOR7'"
      ],
      "execution_count": 0,
      "outputs": []
    },
    {
      "cell_type": "code",
      "metadata": {
        "id": "dy9hXyz1PEPD",
        "colab_type": "code",
        "colab": {}
      },
      "source": [
        "#tweepy explore--\n",
        "# connecting to jump server of twitter\n",
        "auth=tweepy.OAuthHandler(consumer_key,consumer_sec)\n"
      ],
      "execution_count": 0,
      "outputs": []
    },
    {
      "cell_type": "code",
      "metadata": {
        "id": "3Qv_0J5JPcSR",
        "colab_type": "code",
        "colab": {}
      },
      "source": [
        "auth.set_access_token(access_token,access_sec)"
      ],
      "execution_count": 0,
      "outputs": []
    },
    {
      "cell_type": "code",
      "metadata": {
        "id": "XGD5CZ6hPoq9",
        "colab_type": "code",
        "colab": {}
      },
      "source": [
        "api_connect=tweepy.API(auth)"
      ],
      "execution_count": 0,
      "outputs": []
    },
    {
      "cell_type": "code",
      "metadata": {
        "id": "D8z_0PYSP7h4",
        "colab_type": "code",
        "colab": {
          "base_uri": "https://localhost:8080/",
          "height": 302
        },
        "outputId": "329e79a3-2df0-47eb-f44b-4dc84c4af6a7"
      },
      "source": [
        "tweet_data=api_connect.search('modi',count=20)"
      ],
      "execution_count": 36,
      "outputs": [
        {
          "output_type": "error",
          "ename": "TweepError",
          "evalue": "ignored",
          "traceback": [
            "\u001b[0;31m---------------------------------------------------------------------------\u001b[0m",
            "\u001b[0;31mTweepError\u001b[0m                                Traceback (most recent call last)",
            "\u001b[0;32m<ipython-input-36-2a0515cea60c>\u001b[0m in \u001b[0;36m<module>\u001b[0;34m()\u001b[0m\n\u001b[0;32m----> 1\u001b[0;31m \u001b[0mtweet_data\u001b[0m\u001b[0;34m=\u001b[0m\u001b[0mapi_connect\u001b[0m\u001b[0;34m.\u001b[0m\u001b[0msearch\u001b[0m\u001b[0;34m(\u001b[0m\u001b[0;34m'modi'\u001b[0m\u001b[0;34m,\u001b[0m\u001b[0mcount\u001b[0m\u001b[0;34m=\u001b[0m\u001b[0;36m20\u001b[0m\u001b[0;34m)\u001b[0m\u001b[0;34m\u001b[0m\u001b[0;34m\u001b[0m\u001b[0m\n\u001b[0m",
            "\u001b[0;32m/usr/local/lib/python3.6/dist-packages/tweepy/binder.py\u001b[0m in \u001b[0;36m_call\u001b[0;34m(*args, **kwargs)\u001b[0m\n\u001b[1;32m    248\u001b[0m             \u001b[0;32mreturn\u001b[0m \u001b[0mmethod\u001b[0m\u001b[0;34m\u001b[0m\u001b[0;34m\u001b[0m\u001b[0m\n\u001b[1;32m    249\u001b[0m         \u001b[0;32melse\u001b[0m\u001b[0;34m:\u001b[0m\u001b[0;34m\u001b[0m\u001b[0;34m\u001b[0m\u001b[0m\n\u001b[0;32m--> 250\u001b[0;31m             \u001b[0;32mreturn\u001b[0m \u001b[0mmethod\u001b[0m\u001b[0;34m.\u001b[0m\u001b[0mexecute\u001b[0m\u001b[0;34m(\u001b[0m\u001b[0;34m)\u001b[0m\u001b[0;34m\u001b[0m\u001b[0;34m\u001b[0m\u001b[0m\n\u001b[0m\u001b[1;32m    251\u001b[0m \u001b[0;34m\u001b[0m\u001b[0m\n\u001b[1;32m    252\u001b[0m     \u001b[0;31m# Set pagination mode\u001b[0m\u001b[0;34m\u001b[0m\u001b[0;34m\u001b[0m\u001b[0;34m\u001b[0m\u001b[0m\n",
            "\u001b[0;32m/usr/local/lib/python3.6/dist-packages/tweepy/binder.py\u001b[0m in \u001b[0;36mexecute\u001b[0;34m(self)\u001b[0m\n\u001b[1;32m    232\u001b[0m                     \u001b[0;32mraise\u001b[0m \u001b[0mRateLimitError\u001b[0m\u001b[0;34m(\u001b[0m\u001b[0merror_msg\u001b[0m\u001b[0;34m,\u001b[0m \u001b[0mresp\u001b[0m\u001b[0;34m)\u001b[0m\u001b[0;34m\u001b[0m\u001b[0;34m\u001b[0m\u001b[0m\n\u001b[1;32m    233\u001b[0m                 \u001b[0;32melse\u001b[0m\u001b[0;34m:\u001b[0m\u001b[0;34m\u001b[0m\u001b[0;34m\u001b[0m\u001b[0m\n\u001b[0;32m--> 234\u001b[0;31m                     \u001b[0;32mraise\u001b[0m \u001b[0mTweepError\u001b[0m\u001b[0;34m(\u001b[0m\u001b[0merror_msg\u001b[0m\u001b[0;34m,\u001b[0m \u001b[0mresp\u001b[0m\u001b[0;34m,\u001b[0m \u001b[0mapi_code\u001b[0m\u001b[0;34m=\u001b[0m\u001b[0mapi_error_code\u001b[0m\u001b[0;34m)\u001b[0m\u001b[0;34m\u001b[0m\u001b[0;34m\u001b[0m\u001b[0m\n\u001b[0m\u001b[1;32m    235\u001b[0m \u001b[0;34m\u001b[0m\u001b[0m\n\u001b[1;32m    236\u001b[0m             \u001b[0;31m# Parse the response payload\u001b[0m\u001b[0;34m\u001b[0m\u001b[0;34m\u001b[0m\u001b[0;34m\u001b[0m\u001b[0m\n",
            "\u001b[0;31mTweepError\u001b[0m: [{'code': 89, 'message': 'Invalid or expired token.'}]"
          ]
        }
      ]
    },
    {
      "cell_type": "code",
      "metadata": {
        "id": "moSqXiLHQGvY",
        "colab_type": "code",
        "colab": {
          "base_uri": "https://localhost:8080/",
          "height": 435
        },
        "outputId": "38c8b237-3b73-4409-d5f2-6e4ae0c0e2b1"
      },
      "source": [
        "#printing line by line \n",
        "for tweet in tweet_data:\n",
        "  print(tweet.text)"
      ],
      "execution_count": 37,
      "outputs": [
        {
          "output_type": "stream",
          "text": [
            "RT @KathirNews: ஏழைகளுக்கு 1.95 கோடி வீடுகள் கட்டி கொடுக்கப்படும்! நிர்மலா சீதாராமன் அறிவிப்பு !!\n",
            "\n",
            "Read More ▶️ https://t.co/P173AtI8GT\n",
            "\n",
            "#M…\n",
            "Can modi explain why growth has crashed to below 5.8%?? #UnionBudget2019 https://t.co/wULbeXh0iP\n",
            "@ashoswai @IndianExpress You are in love with Pakistan\n",
            "For you just to diss Modi you can fete hafiz sayeed typed\n",
            "While there are some good points about the budget there are bad things too. \n",
            "This step of increasing excise duty on… https://t.co/KcO55o8qTV\n",
            "RT @5Forty3: Greed is still a crime in India, being rich is virtually criminal, ambition is abhorred. Indira Gandhi taxation regime was 97%…\n",
            "RT @srivatsayb: #TikTok is creating more Jobs than Modi\n",
            "RT @ashoswai: Pakistan has initiated 23 cases against Hafiz Saeed, while Modi's India is withdrawing cases against Hindutva terrorists like…\n",
            "RT @hai_sameer: @ipliscsk @UberEats @SwiggyCares @ZomatoIN @zomatocare @swiggy_in modi ji should take strict action against this corporate…\n",
            "@sagarikaghose Only after Gandhipedia can there be a Godsepedia. Its an RSS saazish. Gandhipedia will have facts. I… https://t.co/xx2TSsCJzz\n",
            "RT @Vijaysubbu1: Tomorrow you will witness surge of Pro Modi tweets! They have to justify &amp; praise the life threatening, sorry, life changi…\n",
            "Budget 2019: Central focus of all programmes of the Narendra Modi government is “Gaon, Garib and Kisan” \n",
            "\n",
            " https://t.co/lX2pzTBw7Z\n",
            "RT @pbhushan1: After scrapping the original deal of 126 Rafale fighters with transfer of Tech &amp; Make in India with HAL,  to accommodate Amb…\n",
            "@tehseenp @narendramodi were u not screaming abt BSNL not having money and modi govt made it useless or smethng lik… https://t.co/PP7MWeNS0v\n",
            "RT @sagarikaghose: Modinomics is generally about statist, welfarist big government schemes and what is called saffron socialism/populism. S…\n",
            "RT @abpnewshindi: #Budget2019 : @_YogendraYadav ने बताया 'जीरो बजट स्पीच', कहा- न सूखे का जिक्र, न आय दोगुना करने की बात\n",
            "#देशकाबजट\n",
            "https://…\n"
          ],
          "name": "stdout"
        }
      ]
    },
    {
      "cell_type": "code",
      "metadata": {
        "id": "F0-4pwEnQT3I",
        "colab_type": "code",
        "colab": {}
      },
      "source": [
        "from textblob import TextBlob"
      ],
      "execution_count": 0,
      "outputs": []
    },
    {
      "cell_type": "code",
      "metadata": {
        "id": "Uyf7eKlcQo07",
        "colab_type": "code",
        "colab": {
          "base_uri": "https://localhost:8080/",
          "height": 785
        },
        "outputId": "f885c3c5-845d-4e0b-e18a-0b5054f559c8"
      },
      "source": [
        "pos=0\n",
        "neg=0\n",
        "neu=0\n",
        "# priting line by line\n",
        "for tweet in tweet_data:\n",
        "  analysis=TextBlob(tweet.text)  # here  it will apply NLP\n",
        "  print(analysis.sentiment)\n",
        "  #now checking polarity only \n",
        "  if analysis.sentiment.polarity > 0 :\n",
        "    print(\"postivie\")\n",
        "    pos=pos+1\n",
        "  elif analysis.sentiment.polarity==0:\n",
        "    print(\"neutral\")\n",
        "    neu=neu+1\n",
        "  else:\n",
        "    print(\"negative\")\n",
        "    neg=neg+1\n",
        "    \n",
        "#plotting\n",
        "plt.xlabel(\"tages\")\n",
        "plt.ylabel(\"polarity\")\n",
        "plt.bar(['pos','neg','neu'],[pos,neg,neu])\n",
        "plt.show()"
      ],
      "execution_count": 39,
      "outputs": [
        {
          "output_type": "stream",
          "text": [
            "Sentiment(polarity=0.5, subjectivity=0.5)\n",
            "postivie\n",
            "Sentiment(polarity=0.0, subjectivity=0.0)\n",
            "neutral\n",
            "Sentiment(polarity=0.5, subjectivity=0.6)\n",
            "postivie\n",
            "Sentiment(polarity=5.551115123125783e-17, subjectivity=0.6333333333333333)\n",
            "postivie\n",
            "Sentiment(polarity=-0.012500000000000011, subjectivity=0.65)\n",
            "negative\n",
            "Sentiment(polarity=0.5, subjectivity=0.5)\n",
            "postivie\n",
            "Sentiment(polarity=0.0, subjectivity=0.0)\n",
            "neutral\n",
            "Sentiment(polarity=0.1, subjectivity=0.1)\n",
            "postivie\n",
            "Sentiment(polarity=0.0, subjectivity=1.0)\n",
            "neutral\n",
            "Sentiment(polarity=-0.5, subjectivity=1.0)\n",
            "negative\n",
            "Sentiment(polarity=0.0, subjectivity=0.25)\n",
            "neutral\n",
            "Sentiment(polarity=0.375, subjectivity=0.75)\n",
            "postivie\n",
            "Sentiment(polarity=-0.5, subjectivity=0.2)\n",
            "negative\n",
            "Sentiment(polarity=0.02500000000000001, subjectivity=0.3)\n",
            "postivie\n",
            "Sentiment(polarity=0.0, subjectivity=0.0)\n",
            "neutral\n"
          ],
          "name": "stdout"
        },
        {
          "output_type": "display_data",
          "data": {
            "image/png": "[encoded data removed]",
            "text/plain": [
              "<Figure size 432x288 with 1 Axes>"
            ]
          },
          "metadata": {
            "tags": []
          }
        }
      ]
    },
    {
      "cell_type": "code",
      "metadata": {
        "id": "yBUjuObzRCOH",
        "colab_type": "code",
        "colab": {}
      },
      "source": [
        ""
      ],
      "execution_count": 0,
      "outputs": []
    }
  ]
}