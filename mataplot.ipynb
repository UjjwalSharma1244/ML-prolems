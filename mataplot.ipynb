{
  "nbformat": 4,
  "nbformat_minor": 0,
  "metadata": {
    "colab": {
      "name": "mataplot",
      "version": "0.3.2",
      "provenance": [],
      "collapsed_sections": []
    },
    "kernelspec": {
      "name": "python3",
      "display_name": "Python 3"
    }
  },
  "cells": [
    {
      "cell_type": "code",
      "metadata": {
        "id": "kjKzcIJkTrts",
        "colab_type": "code",
        "colab": {}
      },
      "source": [
        "import matplotlib"
      ],
      "execution_count": 0,
      "outputs": []
    },
    {
      "cell_type": "code",
      "metadata": {
        "id": "qNo71pfDTx3K",
        "colab_type": "code",
        "outputId": "9111ee8c-99c9-44b4-e09f-b20834136570",
        "colab": {
          "base_uri": "https://localhost:8080/",
          "height": 1000
        }
      },
      "source": [
        "dir(matplotlib)"
      ],
      "execution_count": 2,
      "outputs": [
        {
          "output_type": "execute_result",
          "data": {
            "text/plain": [
              "['MatplotlibDeprecationWarning',\n",
              " 'MutableMapping',\n",
              " 'Parameter',\n",
              " 'Path',\n",
              " 'RcParams',\n",
              " 'URL_REGEX',\n",
              " 'Verbose',\n",
              " '_DATA_DOC_APPENDIX',\n",
              " '__bibtex__',\n",
              " '__builtins__',\n",
              " '__cached__',\n",
              " '__doc__',\n",
              " '__file__',\n",
              " '__loader__',\n",
              " '__name__',\n",
              " '__package__',\n",
              " '__path__',\n",
              " '__spec__',\n",
              " '__version__',\n",
              " '__version__numpy__',\n",
              " '__warningregistry__',\n",
              " '_add_data_doc',\n",
              " '_all_deprecated',\n",
              " '_cm',\n",
              " '_cm_listed',\n",
              " '_color_data',\n",
              " '_constrained_layout',\n",
              " '_contour',\n",
              " '_create_tmp_config_dir',\n",
              " '_deprecated_ignore_map',\n",
              " '_deprecated_map',\n",
              " '_deprecated_remain_as_none',\n",
              " '_error_details_fmt',\n",
              " '_get_config_or_cache_dir',\n",
              " '_get_data_path',\n",
              " '_get_xdg_cache_dir',\n",
              " '_get_xdg_config_dir',\n",
              " '_image',\n",
              " '_init_tests',\n",
              " '_layoutbox',\n",
              " '_log',\n",
              " '_logged_cached',\n",
              " '_mathtext_data',\n",
              " '_open_file_or_url',\n",
              " '_parse_commandline',\n",
              " '_path',\n",
              " '_png',\n",
              " '_preprocess_data',\n",
              " '_pylab_helpers',\n",
              " '_qhull',\n",
              " '_rc_params_in_file',\n",
              " '_replacer',\n",
              " '_set_logger_verbose_level',\n",
              " '_tri',\n",
              " '_verbose_msg',\n",
              " '_version',\n",
              " 'afm',\n",
              " 'artist',\n",
              " 'atexit',\n",
              " 'axes',\n",
              " 'axis',\n",
              " 'backend_bases',\n",
              " 'backend_tools',\n",
              " 'backends',\n",
              " 'bezier',\n",
              " 'blocking_input',\n",
              " 'category',\n",
              " 'cbook',\n",
              " 'checkdep_dvipng',\n",
              " 'checkdep_ghostscript',\n",
              " 'checkdep_inkscape',\n",
              " 'checkdep_pdftops',\n",
              " 'checkdep_ps_distiller',\n",
              " 'checkdep_usetex',\n",
              " 'cm',\n",
              " 'collections',\n",
              " 'colorbar',\n",
              " 'colors',\n",
              " 'compare_versions',\n",
              " 'container',\n",
              " 'contextlib',\n",
              " 'contour',\n",
              " 'cycler',\n",
              " 'dates',\n",
              " 'dateutil',\n",
              " 'dedent',\n",
              " 'defaultParams',\n",
              " 'default_test_modules',\n",
              " 'distutils',\n",
              " 'docstring',\n",
              " 'dviread',\n",
              " 'figure',\n",
              " 'font_manager',\n",
              " 'fontconfig_pattern',\n",
              " 'ft2font',\n",
              " 'functools',\n",
              " 'get_backend',\n",
              " 'get_cachedir',\n",
              " 'get_configdir',\n",
              " 'get_data_path',\n",
              " 'get_home',\n",
              " 'get_label',\n",
              " 'get_py2exe_datafiles',\n",
              " 'gridspec',\n",
              " 'image',\n",
              " 'importlib',\n",
              " 'inspect',\n",
              " 'interactive',\n",
              " 'io',\n",
              " 'is_interactive',\n",
              " 'is_url',\n",
              " 'legend',\n",
              " 'legend_handler',\n",
              " 'lines',\n",
              " 'locale',\n",
              " 'logging',\n",
              " 'markers',\n",
              " 'mathtext',\n",
              " 'matplotlib_fname',\n",
              " 'mlab',\n",
              " 'mplDeprecation',\n",
              " 'numpy',\n",
              " 'offsetbox',\n",
              " 'os',\n",
              " 'patches',\n",
              " 'path',\n",
              " 'pprint',\n",
              " 'projections',\n",
              " 'pyparsing',\n",
              " 'pyplot',\n",
              " 'quiver',\n",
              " 'rc',\n",
              " 'rcParams',\n",
              " 'rcParamsDefault',\n",
              " 'rcParamsOrig',\n",
              " 'rc_context',\n",
              " 'rc_file',\n",
              " 'rc_file_defaults',\n",
              " 'rc_params',\n",
              " 'rc_params_from_file',\n",
              " 'rcdefaults',\n",
              " 'rcsetup',\n",
              " 're',\n",
              " 'sanitize_sequence',\n",
              " 'scale',\n",
              " 'shutil',\n",
              " 'spines',\n",
              " 'stackplot',\n",
              " 'stat',\n",
              " 'streamplot',\n",
              " 'style',\n",
              " 'subprocess',\n",
              " 'sys',\n",
              " 'table',\n",
              " 'tempfile',\n",
              " 'test',\n",
              " 'texmanager',\n",
              " 'text',\n",
              " 'textpath',\n",
              " 'ticker',\n",
              " 'tight_bbox',\n",
              " 'tight_layout',\n",
              " 'tk_window_focus',\n",
              " 'transforms',\n",
              " 'tri',\n",
              " 'units',\n",
              " 'urllib',\n",
              " 'use',\n",
              " 'validate_backend',\n",
              " 'verbose',\n",
              " 'warnings',\n",
              " 'widgets']"
            ]
          },
          "metadata": {
            "tags": []
          },
          "execution_count": 2
        }
      ]
    },
    {
      "cell_type": "code",
      "metadata": {
        "id": "Ja1IRavkUJiS",
        "colab_type": "code",
        "colab": {}
      },
      "source": [
        "import matplotlib.pyplot as plt  # only loading python oriented lib.\n",
        "import numpy as np\n",
        "import time"
      ],
      "execution_count": 0,
      "outputs": []
    },
    {
      "cell_type": "code",
      "metadata": {
        "id": "vU9euzg_Usyx",
        "colab_type": "code",
        "outputId": "13490735-7914-4423-959e-6f8ac7946659",
        "colab": {
          "base_uri": "https://localhost:8080/",
          "height": 286
        }
      },
      "source": [
        "plt.plot()  # plot something like graph"
      ],
      "execution_count": 4,
      "outputs": [
        {
          "output_type": "execute_result",
          "data": {
            "text/plain": [
              "[]"
            ]
          },
          "metadata": {
            "tags": []
          },
          "execution_count": 4
        },
        {
          "output_type": "display_data",
          "data": {
            "image/png": "[encoded data removed]",
            "text/plain": [
              "<Figure size 432x288 with 1 Axes>"
            ]
          },
          "metadata": {
            "tags": []
          }
        }
      ]
    },
    {
      "cell_type": "code",
      "metadata": {
        "id": "d3bZ-BNEUyma",
        "colab_type": "code",
        "colab": {}
      },
      "source": [
        "plt.show() #show something"
      ],
      "execution_count": 0,
      "outputs": []
    },
    {
      "cell_type": "code",
      "metadata": {
        "id": "Xl2W-6oaU4Sy",
        "colab_type": "code",
        "colab": {}
      },
      "source": [
        "x=[2,3]"
      ],
      "execution_count": 0,
      "outputs": []
    },
    {
      "cell_type": "code",
      "metadata": {
        "id": "UpfWI5usU6_D",
        "colab_type": "code",
        "colab": {}
      },
      "source": [
        "y=[9,5]"
      ],
      "execution_count": 0,
      "outputs": []
    },
    {
      "cell_type": "code",
      "metadata": {
        "id": "j7r9VNctU9v4",
        "colab_type": "code",
        "outputId": "83d48513-b7b5-46c2-93c2-4a6211d663c9",
        "colab": {
          "base_uri": "https://localhost:8080/",
          "height": 286
        }
      },
      "source": [
        "plt.plot(x,y)  # this will draw a straight line"
      ],
      "execution_count": 0,
      "outputs": [
        {
          "output_type": "execute_result",
          "data": {
            "text/plain": [
              "[<matplotlib.lines.Line2D at 0x7f1bc16e6470>]"
            ]
          },
          "metadata": {
            "tags": []
          },
          "execution_count": 6
        },
        {
          "output_type": "display_data",
          "data": {
            "image/png": "[encoded data removed]",
            "text/plain": [
              "<Figure size 432x288 with 1 Axes>"
            ]
          },
          "metadata": {
            "tags": []
          }
        }
      ]
    },
    {
      "cell_type": "code",
      "metadata": {
        "id": "jLPa-lynVK61",
        "colab_type": "code",
        "outputId": "be525266-0a46-423b-b95c-ae018c3b6b19",
        "colab": {
          "base_uri": "https://localhost:8080/",
          "height": 300
        }
      },
      "source": [
        "plt.xlabel(\"time\")"
      ],
      "execution_count": 0,
      "outputs": [
        {
          "output_type": "execute_result",
          "data": {
            "text/plain": [
              "Text(0.5, 0, 'time')"
            ]
          },
          "metadata": {
            "tags": []
          },
          "execution_count": 7
        },
        {
          "output_type": "display_data",
          "data": {
            "image/png": "[encoded data removed]",
            "text/plain": [
              "<Figure size 432x288 with 1 Axes>"
            ]
          },
          "metadata": {
            "tags": []
          }
        }
      ]
    },
    {
      "cell_type": "code",
      "metadata": {
        "id": "3-kM6YsTVwNL",
        "colab_type": "code",
        "outputId": "e8147e73-8e5c-45e8-e113-7316cbaa6497",
        "colab": {
          "base_uri": "https://localhost:8080/",
          "height": 286
        }
      },
      "source": [
        "plt.ylabel(\"speed\")"
      ],
      "execution_count": 0,
      "outputs": [
        {
          "output_type": "execute_result",
          "data": {
            "text/plain": [
              "Text(0, 0.5, 'speed')"
            ]
          },
          "metadata": {
            "tags": []
          },
          "execution_count": 8
        },
        {
          "output_type": "display_data",
          "data": {
            "image/png": "[encoded data removed]",
            "text/plain": [
              "<Figure size 432x288 with 1 Axes>"
            ]
          },
          "metadata": {
            "tags": []
          }
        }
      ]
    },
    {
      "cell_type": "code",
      "metadata": {
        "id": "IKmnYdBgV0Vn",
        "colab_type": "code",
        "outputId": "76cb58be-d198-4d30-dcc3-9de20182ef13",
        "colab": {
          "base_uri": "https://localhost:8080/",
          "height": 286
        }
      },
      "source": [
        "plt.plot(x,y)"
      ],
      "execution_count": 0,
      "outputs": [
        {
          "output_type": "execute_result",
          "data": {
            "text/plain": [
              "[<matplotlib.lines.Line2D at 0x7f1bc15f3da0>]"
            ]
          },
          "metadata": {
            "tags": []
          },
          "execution_count": 9
        },
        {
          "output_type": "display_data",
          "data": {
            "image/png": "[encoded data removed]",
            "text/plain": [
              "<Figure size 432x288 with 1 Axes>"
            ]
          },
          "metadata": {
            "tags": []
          }
        }
      ]
    },
    {
      "cell_type": "code",
      "metadata": {
        "id": "tDsuZ94VV9HZ",
        "colab_type": "code",
        "outputId": "f88b7a10-638c-4922-9e5e-d4af3d03e146",
        "colab": {
          "base_uri": "https://localhost:8080/",
          "height": 269
        }
      },
      "source": [
        "plt.grid()  #to form grid in graph"
      ],
      "execution_count": 0,
      "outputs": [
        {
          "output_type": "display_data",
          "data": {
            "image/png": "[encoded data removed]",
            "text/plain": [
              "<Figure size 432x288 with 1 Axes>"
            ]
          },
          "metadata": {
            "tags": []
          }
        }
      ]
    },
    {
      "cell_type": "code",
      "metadata": {
        "id": "S_dTjMNyWPLQ",
        "colab_type": "code",
        "outputId": "fd72a848-17a6-4a8a-915d-1bb1cfc28022",
        "colab": {
          "base_uri": "https://localhost:8080/",
          "height": 269
        }
      },
      "source": [
        "plt.grid(color=\"green\")  #to change the line color"
      ],
      "execution_count": 0,
      "outputs": [
        {
          "output_type": "display_data",
          "data": {
            "image/png": "[encoded data removed]",
            "text/plain": [
              "<Figure size 432x288 with 1 Axes>"
            ]
          },
          "metadata": {
            "tags": []
          }
        }
      ]
    },
    {
      "cell_type": "code",
      "metadata": {
        "id": "zhjoIGOLW-tz",
        "colab_type": "code",
        "colab": {}
      },
      "source": [
        "x1=[4,3,8]"
      ],
      "execution_count": 0,
      "outputs": []
    },
    {
      "cell_type": "code",
      "metadata": {
        "id": "ohxhEj9PXEHE",
        "colab_type": "code",
        "colab": {}
      },
      "source": [
        "y1=[2,9,7]"
      ],
      "execution_count": 0,
      "outputs": []
    },
    {
      "cell_type": "code",
      "metadata": {
        "id": "PJY7jfPVXHjI",
        "colab_type": "code",
        "outputId": "757e146e-f9a6-407f-a3bb-1e269c705e8a",
        "colab": {
          "base_uri": "https://localhost:8080/",
          "height": 286
        }
      },
      "source": [
        "plt.plot(x1,y1)"
      ],
      "execution_count": 0,
      "outputs": [
        {
          "output_type": "execute_result",
          "data": {
            "text/plain": [
              "[<matplotlib.lines.Line2D at 0x7f1bc1485630>]"
            ]
          },
          "metadata": {
            "tags": []
          },
          "execution_count": 14
        },
        {
          "output_type": "display_data",
          "data": {
            "image/png": "[encoded data removed]",
            "text/plain": [
              "<Figure size 432x288 with 1 Axes>"
            ]
          },
          "metadata": {
            "tags": []
          }
        }
      ]
    },
    {
      "cell_type": "code",
      "metadata": {
        "id": "6MVAMKqMXM4G",
        "colab_type": "code",
        "colab": {}
      },
      "source": [
        "#plt.plot(x,y,label=\"water\")\n",
        "#plt.plot(x1,y1,label=\"sand\")\n",
        "# plt.legend()     \n",
        "\n",
        "#used all this for sign the line indication which line show which part mins blue line kis show kr raha hai and sand line kisy show kr raha hai yeah btaay ga|"
      ],
      "execution_count": 0,
      "outputs": []
    },
    {
      "cell_type": "code",
      "metadata": {
        "id": "YSHiwOlcYKhO",
        "colab_type": "code",
        "outputId": "3ac6dfaf-69b1-46ef-9512-e78962b5fc6f",
        "colab": {
          "base_uri": "https://localhost:8080/",
          "height": 286
        }
      },
      "source": [
        "plt.xlim(0,12)   # to show min and max number in x axis"
      ],
      "execution_count": 0,
      "outputs": [
        {
          "output_type": "execute_result",
          "data": {
            "text/plain": [
              "(0, 12)"
            ]
          },
          "metadata": {
            "tags": []
          },
          "execution_count": 16
        },
        {
          "output_type": "display_data",
          "data": {
            "image/png": "[encoded data removed]",
            "text/plain": [
              "<Figure size 432x288 with 1 Axes>"
            ]
          },
          "metadata": {
            "tags": []
          }
        }
      ]
    },
    {
      "cell_type": "code",
      "metadata": {
        "id": "XLtoM8NKYPs-",
        "colab_type": "code",
        "outputId": "c1a8f80e-0a7e-4b24-ddb6-5a4871951606",
        "colab": {
          "base_uri": "https://localhost:8080/",
          "height": 286
        }
      },
      "source": [
        "plt.ylim(0,15)  #for limit y ki 0 sy 15"
      ],
      "execution_count": 0,
      "outputs": [
        {
          "output_type": "execute_result",
          "data": {
            "text/plain": [
              "(0, 15)"
            ]
          },
          "metadata": {
            "tags": []
          },
          "execution_count": 17
        },
        {
          "output_type": "display_data",
          "data": {
            "image/png": "[encoded data removed]",
            "text/plain": [
              "<Figure size 432x288 with 1 Axes>"
            ]
          },
          "metadata": {
            "tags": []
          }
        }
      ]
    },
    {
      "cell_type": "code",
      "metadata": {
        "id": "t4ZyHLa0YY2l",
        "colab_type": "code",
        "outputId": "7198f123-6a9f-427c-c14c-03309738b255",
        "colab": {
          "base_uri": "https://localhost:8080/",
          "height": 286
        }
      },
      "source": [
        "plt.xlim(0,12)\n",
        "plt.ylim(0,15)"
      ],
      "execution_count": 0,
      "outputs": [
        {
          "output_type": "execute_result",
          "data": {
            "text/plain": [
              "(0, 15)"
            ]
          },
          "metadata": {
            "tags": []
          },
          "execution_count": 18
        },
        {
          "output_type": "display_data",
          "data": {
            "image/png": "[encoded data removed]",
            "text/plain": [
              "<Figure size 432x288 with 1 Axes>"
            ]
          },
          "metadata": {
            "tags": []
          }
        }
      ]
    },
    {
      "cell_type": "code",
      "metadata": {
        "id": "gXRWrXOGYydQ",
        "colab_type": "code",
        "outputId": "abf4bec2-a087-4fe4-92c7-ea60a48efe81",
        "colab": {
          "base_uri": "https://localhost:8080/",
          "height": 286
        }
      },
      "source": [
        "plt.bar(x1,y1)  # to plot bar in graph\n",
        "plt.bar(x,y)  # to plot bar in graph"
      ],
      "execution_count": 0,
      "outputs": [
        {
          "output_type": "execute_result",
          "data": {
            "text/plain": [
              "<BarContainer object of 2 artists>"
            ]
          },
          "metadata": {
            "tags": []
          },
          "execution_count": 19
        },
        {
          "output_type": "display_data",
          "data": {
            "image/png": "[encoded data removed]",
            "text/plain": [
              "<Figure size 432x288 with 1 Axes>"
            ]
          },
          "metadata": {
            "tags": []
          }
        }
      ]
    },
    {
      "cell_type": "code",
      "metadata": {
        "id": "HOnMkxoFZGRT",
        "colab_type": "code",
        "colab": {}
      },
      "source": [
        "player=[\"virat\",\"dhoni\"]"
      ],
      "execution_count": 0,
      "outputs": []
    },
    {
      "cell_type": "code",
      "metadata": {
        "id": "odUhzONIZfqa",
        "colab_type": "code",
        "colab": {}
      },
      "source": [
        "runs=[90,80]"
      ],
      "execution_count": 0,
      "outputs": []
    },
    {
      "cell_type": "code",
      "metadata": {
        "id": "Io4-d9cuZj3I",
        "colab_type": "code",
        "outputId": "c81902dc-7876-4658-b8cb-b6008c4d4c8e",
        "colab": {
          "base_uri": "https://localhost:8080/",
          "height": 300
        }
      },
      "source": [
        "plt.xlabel(\"player\")"
      ],
      "execution_count": 0,
      "outputs": [
        {
          "output_type": "execute_result",
          "data": {
            "text/plain": [
              "Text(0.5, 0, 'player')"
            ]
          },
          "metadata": {
            "tags": []
          },
          "execution_count": 22
        },
        {
          "output_type": "display_data",
          "data": {
            "image/png": "[encoded data removed]",
            "text/plain": [
              "<Figure size 432x288 with 1 Axes>"
            ]
          },
          "metadata": {
            "tags": []
          }
        }
      ]
    },
    {
      "cell_type": "code",
      "metadata": {
        "id": "K46t6qYtZuez",
        "colab_type": "code",
        "outputId": "f2fa499b-3e13-40a5-df78-86ba89f7eec5",
        "colab": {
          "base_uri": "https://localhost:8080/",
          "height": 286
        }
      },
      "source": [
        "plt.ylabel(\"runs\")"
      ],
      "execution_count": 0,
      "outputs": [
        {
          "output_type": "execute_result",
          "data": {
            "text/plain": [
              "Text(0, 0.5, 'runs')"
            ]
          },
          "metadata": {
            "tags": []
          },
          "execution_count": 23
        },
        {
          "output_type": "display_data",
          "data": {
            "image/png": "[encoded data removed]",
            "text/plain": [
              "<Figure size 432x288 with 1 Axes>"
            ]
          },
          "metadata": {
            "tags": []
          }
        }
      ]
    },
    {
      "cell_type": "code",
      "metadata": {
        "id": "nDs0dbEiZzzW",
        "colab_type": "code",
        "colab": {}
      },
      "source": [
        "player=['virat','dhoni']\n",
        "run=[70,60]"
      ],
      "execution_count": 0,
      "outputs": []
    },
    {
      "cell_type": "code",
      "metadata": {
        "id": "svqbJv8waKWt",
        "colab_type": "code",
        "outputId": "ec1310f5-96eb-49d1-c112-7733fce0c9af",
        "colab": {
          "base_uri": "https://localhost:8080/",
          "height": 300
        }
      },
      "source": [
        "plt.xlabel(\"player\")\n",
        "plt.ylabel(\"run\")"
      ],
      "execution_count": 0,
      "outputs": [
        {
          "output_type": "execute_result",
          "data": {
            "text/plain": [
              "Text(0, 0.5, 'run')"
            ]
          },
          "metadata": {
            "tags": []
          },
          "execution_count": 25
        },
        {
          "output_type": "display_data",
          "data": {
            "image/png": "[encoded data removed]",
            "text/plain": [
              "<Figure size 432x288 with 1 Axes>"
            ]
          },
          "metadata": {
            "tags": []
          }
        }
      ]
    },
    {
      "cell_type": "code",
      "metadata": {
        "id": "FsBZ5XZOaX6q",
        "colab_type": "code",
        "colab": {}
      },
      "source": [
        "x=[4,7,8,9,11,5]\n",
        "y=[13,23,5,7,9,12]\n",
        "player=['virat','dhoni','vijay','dhawan']\n",
        "runs=[120,44,73,33]\n",
        "exp=[1.0,0,0,0]    #for change the date   ##@shift kr k alag sy koi data alag jsy is virat alag show ho raha"
      ],
      "execution_count": 0,
      "outputs": []
    },
    {
      "cell_type": "code",
      "metadata": {
        "id": "SOUVMnvCCEZf",
        "colab_type": "code",
        "outputId": "7b6aa105-32ac-4043-bdee-78943768e7c8",
        "colab": {
          "base_uri": "https://localhost:8080/",
          "height": 283
        }
      },
      "source": [
        "plt.xlabel('x-axis')\n",
        "plt.ylabel('y-axis')\n",
        "plt.plot(x,y)   #line plot only\n",
        "plt.bar(x,y,label=\"polution\")\n",
        "plt.bar(player,runs,label=\"cricketscore\")\n",
        "plt.scatter(x,y)   #for scatter like dots\n",
        "plt.grid(color=\"green\")\n",
        "plt.show()"
      ],
      "execution_count": 0,
      "outputs": [
        {
          "output_type": "display_data",
          "data": {
            "image/png": "[encoded data removed]",
            "text/plain": [
              "<Figure size 432x288 with 1 Axes>"
            ]
          },
          "metadata": {
            "tags": []
          }
        }
      ]
    },
    {
      "cell_type": "code",
      "metadata": {
        "id": "aLzdkVmrCsQY",
        "colab_type": "code",
        "outputId": "068e99b6-834e-4516-c3a6-ae93abf442ec",
        "colab": {
          "base_uri": "https://localhost:8080/",
          "height": 328
        }
      },
      "source": [
        "#plt.xlabel('x-axis')\n",
        "#plt.ylabel('y-axis')\n",
        "#plt.plot(x,y)   #line plot only\n",
        "#plt.bar(x,y,label=\"polution\")\n",
        "#plt.bar(player,runs,label=\"cricketscore\")\n",
        "#plt.scatter(x,y)   #for scatter like dots\n",
        "plt.pie(runs,labels=player,explode=exp,shadow=True,autopct='%1.1f%%')  #for create label\n",
        "plt.grid(color=\"green\")\n",
        "plt.show()"
      ],
      "execution_count": 0,
      "outputs": [
        {
          "output_type": "display_data",
          "data": {
            "image/png": "[encoded data removed]",
            "text/plain": [
              "<Figure size 432x288 with 1 Axes>"
            ]
          },
          "metadata": {
            "tags": []
          }
        }
      ]
    }
  ]
}